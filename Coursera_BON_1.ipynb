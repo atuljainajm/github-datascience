{
 "cells": [
  {
   "cell_type": "markdown",
   "metadata": {
    "collapsed": true
   },
   "source": [
    "# Peer-graded Assignment: Capstone Project - The Battle of Neighborhoods (Week 1)"
   ]
  },
  {
   "cell_type": "markdown",
   "metadata": {},
   "source": [
    "## Business Problem"
   ]
  },
  {
   "cell_type": "markdown",
   "metadata": {},
   "source": [
    "USA is diverse and multicultural. It provides a lot of business opportunities and business friendly environment. It is a global hub of business and commerce.  Any new business venture or expansion needs to be analyzed carefully. The insight derived from the analysis will give a good understanding of business environment which help in strategically targeting the market. The objective is to find a place to start indoor-sports arena in the best neighborhood in the USA. It would be dependent on the following variables:\n",
    "\n",
    " \n",
    "<ol>\n",
    "<li>Per Capita Income</li>\n",
    "<li>Population of locality</li>\n",
    "<li>Areans in the given neighborhood </li>\n",
    "</ol>\n"
   ]
  },
  {
   "cell_type": "markdown",
   "metadata": {},
   "source": [
    "## Data"
   ]
  },
  {
   "cell_type": "markdown",
   "metadata": {},
   "source": [
    "<ol>\n",
    "<li>List of all the cities in United States with population density and coordinates: https://en.wikipedia.org/wiki/List_of_United_States_cities_by_population</li>\n",
    "<li>List of all the cities in United States with Per Capita Income : https://en.wikipedia.org/wiki/List_of_United_States_counties_by_per_capita_income</li>\n",
    "</ol>\n",
    "\n"
   ]
  },
  {
   "cell_type": "markdown",
   "metadata": {},
   "source": [
    "Using Four Square API to get the following\n",
    "<ul>\n",
    "<li>List of all areans in each city of USA</li>\n",
    "<li>List of all areans in each locality in the selected city of USA</li>\n",
    "</ul>\n"
   ]
  },
  {
   "cell_type": "markdown",
   "metadata": {},
   "source": [
    "The data will be used as follows: Use Foursquare and geopy to find the best neighborhood. Data will be searched in open data sources if available. A best city would be selected on variables like Population density, per capita income, number of areans. After determining the city, the best neighborhood  would be selected."
   ]
  },
  {
   "cell_type": "markdown",
   "metadata": {},
   "source": [
    "## Target Audience\n",
    "The objective is to locate and recommend to the management which neighborhood in a city of USA will be best choice to start an indoor-sports arena. The Management also expects to understand the rationale of the recommendations made."
   ]
  },
  {
   "cell_type": "code",
   "execution_count": null,
   "metadata": {},
   "outputs": [],
   "source": []
  }
 ],
 "metadata": {
  "kernelspec": {
   "display_name": "Python 3.6",
   "language": "python",
   "name": "python3"
  },
  "language_info": {
   "codemirror_mode": {
    "name": "ipython",
    "version": 3
   },
   "file_extension": ".py",
   "mimetype": "text/x-python",
   "name": "python",
   "nbconvert_exporter": "python",
   "pygments_lexer": "ipython3",
   "version": "3.6.8"
  }
 },
 "nbformat": 4,
 "nbformat_minor": 1
}
